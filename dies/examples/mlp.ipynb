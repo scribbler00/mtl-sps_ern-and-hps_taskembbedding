{
 "cells": [
  {
   "cell_type": "code",
   "execution_count": 1,
   "metadata": {},
   "outputs": [],
   "source": [
    "import pandas as pd\n",
    "import seaborn as sns\n",
    "import matplotlib.pyplot as plt\n",
    "import matplotlib as mpl\n",
    "import torch\n",
    "from sklearn.metrics import mean_squared_error as mse\n",
    "\n",
    "from fastai.basic_train import Learner\n",
    "from fastai.callbacks import OneCycleScheduler\n",
    "from fastai.basic_data import DatasetType\n",
    "\n",
    "from dies.data import ds_from_df_from_dtypes,  scale_datasets, create_databunch\n",
    "from dies.data import train_test_split_dataset_with_test_date, train_test_split_dataset\n",
    "from dies.mlp import MultiLayerPeceptron\n",
    "from dies.embedding import Embedding\n",
    "from dies.utils_pytorch import dev_to_np, xavier_init_uniform\n",
    "sns.set_context('poster')\n",
    "sns.set_style('whitegrid')\n",
    "mpl.rcParams[\"legend.loc\"] = 'upper left'"
   ]
  },
  {
   "cell_type": "code",
   "execution_count": 2,
   "metadata": {},
   "outputs": [],
   "source": [
    "with pd.HDFStore('./data/GEFCOM_Z1.h5') as store:\n",
    "    df = store['powerdata']"
   ]
  },
  {
   "cell_type": "code",
   "execution_count": 4,
   "metadata": {},
   "outputs": [
    {
     "data": {
      "text/html": [
       "<div>\n",
       "<style scoped>\n",
       "    .dataframe tbody tr th:only-of-type {\n",
       "        vertical-align: middle;\n",
       "    }\n",
       "\n",
       "    .dataframe tbody tr th {\n",
       "        vertical-align: top;\n",
       "    }\n",
       "\n",
       "    .dataframe thead th {\n",
       "        text-align: right;\n",
       "    }\n",
       "</style>\n",
       "<table border=\"1\" class=\"dataframe\">\n",
       "  <thead>\n",
       "    <tr style=\"text-align: right;\">\n",
       "      <th></th>\n",
       "      <th>AirPressure</th>\n",
       "      <th>Humidity</th>\n",
       "      <th>MaxPowerGeneration</th>\n",
       "      <th>PowerGeneration</th>\n",
       "      <th>Temperature</th>\n",
       "      <th>TimeUTC</th>\n",
       "      <th>WindDirectionMeridional100m</th>\n",
       "      <th>WindDirectionMeridional10m</th>\n",
       "      <th>WindDirectionZonal100m</th>\n",
       "      <th>WindDirectionZonal10m</th>\n",
       "      <th>WindSpeed100m</th>\n",
       "      <th>WindSpeed10m</th>\n",
       "    </tr>\n",
       "  </thead>\n",
       "  <tbody>\n",
       "    <tr>\n",
       "      <th>0</th>\n",
       "      <td>NaN</td>\n",
       "      <td>NaN</td>\n",
       "      <td>1.0</td>\n",
       "      <td>0.000000</td>\n",
       "      <td>NaN</td>\n",
       "      <td>20120101 1:00</td>\n",
       "      <td>-3.666076</td>\n",
       "      <td>-2.681966</td>\n",
       "      <td>2.864280</td>\n",
       "      <td>2.124600</td>\n",
       "      <td>4.652334</td>\n",
       "      <td>3.421530</td>\n",
       "    </tr>\n",
       "    <tr>\n",
       "      <th>1</th>\n",
       "      <td>NaN</td>\n",
       "      <td>NaN</td>\n",
       "      <td>1.0</td>\n",
       "      <td>0.054879</td>\n",
       "      <td>NaN</td>\n",
       "      <td>20120101 2:00</td>\n",
       "      <td>-2.464761</td>\n",
       "      <td>-1.796960</td>\n",
       "      <td>3.344859</td>\n",
       "      <td>2.521695</td>\n",
       "      <td>4.154892</td>\n",
       "      <td>3.096451</td>\n",
       "    </tr>\n",
       "  </tbody>\n",
       "</table>\n",
       "</div>"
      ],
      "text/plain": [
       "   AirPressure  Humidity  MaxPowerGeneration  PowerGeneration  Temperature  \\\n",
       "0          NaN       NaN                 1.0         0.000000          NaN   \n",
       "1          NaN       NaN                 1.0         0.054879          NaN   \n",
       "\n",
       "         TimeUTC  WindDirectionMeridional100m  WindDirectionMeridional10m  \\\n",
       "0  20120101 1:00                    -3.666076                   -2.681966   \n",
       "1  20120101 2:00                    -2.464761                   -1.796960   \n",
       "\n",
       "   WindDirectionZonal100m  WindDirectionZonal10m  WindSpeed100m  WindSpeed10m  \n",
       "0                2.864280               2.124600       4.652334      3.421530  \n",
       "1                3.344859               2.521695       4.154892      3.096451  "
      ]
     },
     "execution_count": 4,
     "metadata": {},
     "output_type": "execute_result"
    }
   ],
   "source": [
    "df.head(2)"
   ]
  },
  {
   "cell_type": "markdown",
   "metadata": {},
   "source": [
    "Drop columns with na values"
   ]
  },
  {
   "cell_type": "code",
   "execution_count": 5,
   "metadata": {},
   "outputs": [],
   "source": [
    "df = df.fillna(df.mean())"
   ]
  },
  {
   "cell_type": "code",
   "execution_count": 6,
   "metadata": {},
   "outputs": [],
   "source": [
    "df = df.dropna(axis=1)"
   ]
  },
  {
   "cell_type": "code",
   "execution_count": 7,
   "metadata": {},
   "outputs": [
    {
     "data": {
      "text/html": [
       "<div>\n",
       "<style scoped>\n",
       "    .dataframe tbody tr th:only-of-type {\n",
       "        vertical-align: middle;\n",
       "    }\n",
       "\n",
       "    .dataframe tbody tr th {\n",
       "        vertical-align: top;\n",
       "    }\n",
       "\n",
       "    .dataframe thead th {\n",
       "        text-align: right;\n",
       "    }\n",
       "</style>\n",
       "<table border=\"1\" class=\"dataframe\">\n",
       "  <thead>\n",
       "    <tr style=\"text-align: right;\">\n",
       "      <th></th>\n",
       "      <th>MaxPowerGeneration</th>\n",
       "      <th>PowerGeneration</th>\n",
       "      <th>TimeUTC</th>\n",
       "      <th>WindDirectionMeridional100m</th>\n",
       "      <th>WindDirectionMeridional10m</th>\n",
       "      <th>WindDirectionZonal100m</th>\n",
       "      <th>WindDirectionZonal10m</th>\n",
       "      <th>WindSpeed100m</th>\n",
       "      <th>WindSpeed10m</th>\n",
       "    </tr>\n",
       "  </thead>\n",
       "  <tbody>\n",
       "    <tr>\n",
       "      <th>0</th>\n",
       "      <td>1.0</td>\n",
       "      <td>0.000000</td>\n",
       "      <td>20120101 1:00</td>\n",
       "      <td>-3.666076</td>\n",
       "      <td>-2.681966</td>\n",
       "      <td>2.864280</td>\n",
       "      <td>2.124600</td>\n",
       "      <td>4.652334</td>\n",
       "      <td>3.421530</td>\n",
       "    </tr>\n",
       "    <tr>\n",
       "      <th>1</th>\n",
       "      <td>1.0</td>\n",
       "      <td>0.054879</td>\n",
       "      <td>20120101 2:00</td>\n",
       "      <td>-2.464761</td>\n",
       "      <td>-1.796960</td>\n",
       "      <td>3.344859</td>\n",
       "      <td>2.521695</td>\n",
       "      <td>4.154892</td>\n",
       "      <td>3.096451</td>\n",
       "    </tr>\n",
       "  </tbody>\n",
       "</table>\n",
       "</div>"
      ],
      "text/plain": [
       "   MaxPowerGeneration  PowerGeneration        TimeUTC  \\\n",
       "0                 1.0         0.000000  20120101 1:00   \n",
       "1                 1.0         0.054879  20120101 2:00   \n",
       "\n",
       "   WindDirectionMeridional100m  WindDirectionMeridional10m  \\\n",
       "0                    -3.666076                   -2.681966   \n",
       "1                    -2.464761                   -1.796960   \n",
       "\n",
       "   WindDirectionZonal100m  WindDirectionZonal10m  WindSpeed100m  WindSpeed10m  \n",
       "0                2.864280               2.124600       4.652334      3.421530  \n",
       "1                3.344859               2.521695       4.154892      3.096451  "
      ]
     },
     "execution_count": 7,
     "metadata": {},
     "output_type": "execute_result"
    }
   ],
   "source": [
    "df.head(2)"
   ]
  },
  {
   "cell_type": "markdown",
   "metadata": {},
   "source": [
    "Create proper timestamp"
   ]
  },
  {
   "cell_type": "code",
   "execution_count": 8,
   "metadata": {},
   "outputs": [],
   "source": [
    "df.TimeUTC = pd.to_datetime(df.TimeUTC, infer_datetime_format=True, utc=True)\n",
    "df.set_index('TimeUTC', inplace=True)"
   ]
  },
  {
   "cell_type": "markdown",
   "metadata": {},
   "source": [
    "Normalize output"
   ]
  },
  {
   "cell_type": "code",
   "execution_count": 9,
   "metadata": {},
   "outputs": [],
   "source": [
    "df.PowerGeneration = df.PowerGeneration.apply(float) / df.MaxPowerGeneration.apply(float)\n",
    "df.drop('MaxPowerGeneration', axis=1, inplace=True)"
   ]
  },
  {
   "cell_type": "markdown",
   "metadata": {},
   "source": [
    "Create features for timeseries"
   ]
  },
  {
   "cell_type": "code",
   "execution_count": 10,
   "metadata": {},
   "outputs": [],
   "source": [
    "df['DayOfYear'] = df.index.dayofyear\n",
    "df['Hour'] = df.index.hour"
   ]
  },
  {
   "cell_type": "code",
   "execution_count": 11,
   "metadata": {},
   "outputs": [
    {
     "data": {
      "text/plain": [
       "PowerGeneration                float64\n",
       "WindDirectionMeridional100m    float64\n",
       "WindDirectionMeridional10m     float64\n",
       "WindDirectionZonal100m         float64\n",
       "WindDirectionZonal10m          float64\n",
       "WindSpeed100m                  float64\n",
       "WindSpeed10m                   float64\n",
       "DayOfYear                        int64\n",
       "Hour                             int64\n",
       "dtype: object"
      ]
     },
     "execution_count": 11,
     "metadata": {},
     "output_type": "execute_result"
    }
   ],
   "source": [
    "df.dtypes"
   ]
  },
  {
   "cell_type": "code",
   "execution_count": 12,
   "metadata": {},
   "outputs": [],
   "source": [
    "ds = ds_from_df_from_dtypes(df, y_columns='PowerGeneration')"
   ]
  },
  {
   "cell_type": "markdown",
   "metadata": {},
   "source": [
    "Assure correct columns were selected"
   ]
  },
  {
   "cell_type": "code",
   "execution_count": 13,
   "metadata": {},
   "outputs": [
    {
     "data": {
      "text/plain": [
       "(['WindDirectionMeridional100m',\n",
       "  'WindDirectionMeridional10m',\n",
       "  'WindDirectionZonal100m',\n",
       "  'WindDirectionZonal10m',\n",
       "  'WindSpeed100m',\n",
       "  'WindSpeed10m'],\n",
       " ['DayOfYear', 'Hour'],\n",
       " ['PowerGeneration'])"
      ]
     },
     "execution_count": 13,
     "metadata": {},
     "output_type": "execute_result"
    }
   ],
   "source": [
    "ds.x_columns, ds.cat_columns, ds.y_columns"
   ]
  },
  {
   "cell_type": "code",
   "execution_count": 14,
   "metadata": {},
   "outputs": [],
   "source": [
    "ds_tr, ds_val, ds_te = train_test_split_dataset_with_test_date(ds, '2013-01-01')"
   ]
  },
  {
   "cell_type": "markdown",
   "metadata": {},
   "source": [
    "We can use y_ranges to scale the output in the area of the output. Here, it doesn't make much sense, as the output is already normalized, and it is rather for demonstrating functionality."
   ]
  },
  {
   "cell_type": "code",
   "execution_count": 15,
   "metadata": {},
   "outputs": [],
   "source": [
    "y_ranges = ds_tr.y_ranges"
   ]
  },
  {
   "cell_type": "markdown",
   "metadata": {},
   "source": [
    "Scale the input"
   ]
  },
  {
   "cell_type": "code",
   "execution_count": 16,
   "metadata": {},
   "outputs": [],
   "source": [
    "scale_datasets(train_dataset=ds_tr, other_datasets=[ds_val, ds_te])"
   ]
  },
  {
   "cell_type": "markdown",
   "metadata": {},
   "source": [
    "Create databunch for fastai training"
   ]
  },
  {
   "cell_type": "code",
   "execution_count": 17,
   "metadata": {},
   "outputs": [],
   "source": [
    "db = create_databunch(ds_tr, ds_val, ds_te, batch_size=128, device='cpu')"
   ]
  },
  {
   "cell_type": "markdown",
   "metadata": {},
   "source": [
    "Create MLP Model"
   ]
  },
  {
   "cell_type": "code",
   "execution_count": 18,
   "metadata": {},
   "outputs": [],
   "source": [
    "input_size = ds_tr.x.shape[1]\n",
    "sizes_cat = [ds_tr.cat[:,0].max()+1, ds_tr.cat[:,1].max()+1]"
   ]
  },
  {
   "cell_type": "code",
   "execution_count": 26,
   "metadata": {},
   "outputs": [],
   "source": [
    "embedding_module = Embedding(sizes_cat, embedding_dropout=0.1)\n",
    "ann_model = MultiLayerPeceptron(input_size, ann_structure=[12, 6, 1], \n",
    "                                embedding_module=embedding_module, \n",
    "                                dropout=0.1, y_ranges=y_ranges)\n",
    "ann_model = ann_model.apply(xavier_init_uniform)"
   ]
  },
  {
   "cell_type": "markdown",
   "metadata": {},
   "source": [
    " Train it"
   ]
  },
  {
   "cell_type": "code",
   "execution_count": 27,
   "metadata": {},
   "outputs": [],
   "source": [
    "learn = Learner(\n",
    "    db,\n",
    "    ann_model,\n",
    "    loss_func=torch.nn.MSELoss(),\n",
    ")\n",
    "cbs = [OneCycleScheduler(learn, lr_max=0.1)]"
   ]
  },
  {
   "cell_type": "code",
   "execution_count": 28,
   "metadata": {},
   "outputs": [
    {
     "data": {
      "text/html": [
       "<table border=\"1\" class=\"dataframe\">\n",
       "  <thead>\n",
       "    <tr style=\"text-align: left;\">\n",
       "      <th>epoch</th>\n",
       "      <th>train_loss</th>\n",
       "      <th>valid_loss</th>\n",
       "      <th>time</th>\n",
       "    </tr>\n",
       "  </thead>\n",
       "  <tbody>\n",
       "    <tr>\n",
       "      <td>0</td>\n",
       "      <td>0.106196</td>\n",
       "      <td>0.045936</td>\n",
       "      <td>00:00</td>\n",
       "    </tr>\n",
       "    <tr>\n",
       "      <td>1</td>\n",
       "      <td>0.053107</td>\n",
       "      <td>0.026345</td>\n",
       "      <td>00:00</td>\n",
       "    </tr>\n",
       "    <tr>\n",
       "      <td>2</td>\n",
       "      <td>0.036120</td>\n",
       "      <td>0.023940</td>\n",
       "      <td>00:00</td>\n",
       "    </tr>\n",
       "    <tr>\n",
       "      <td>3</td>\n",
       "      <td>0.029263</td>\n",
       "      <td>0.025766</td>\n",
       "      <td>00:00</td>\n",
       "    </tr>\n",
       "    <tr>\n",
       "      <td>4</td>\n",
       "      <td>0.024968</td>\n",
       "      <td>0.021076</td>\n",
       "      <td>00:00</td>\n",
       "    </tr>\n",
       "    <tr>\n",
       "      <td>5</td>\n",
       "      <td>0.022248</td>\n",
       "      <td>0.019571</td>\n",
       "      <td>00:00</td>\n",
       "    </tr>\n",
       "    <tr>\n",
       "      <td>6</td>\n",
       "      <td>0.020251</td>\n",
       "      <td>0.017632</td>\n",
       "      <td>00:01</td>\n",
       "    </tr>\n",
       "    <tr>\n",
       "      <td>7</td>\n",
       "      <td>0.018723</td>\n",
       "      <td>0.016811</td>\n",
       "      <td>00:00</td>\n",
       "    </tr>\n",
       "    <tr>\n",
       "      <td>8</td>\n",
       "      <td>0.017279</td>\n",
       "      <td>0.016200</td>\n",
       "      <td>00:00</td>\n",
       "    </tr>\n",
       "    <tr>\n",
       "      <td>9</td>\n",
       "      <td>0.016595</td>\n",
       "      <td>0.016302</td>\n",
       "      <td>00:00</td>\n",
       "    </tr>\n",
       "  </tbody>\n",
       "</table>"
      ],
      "text/plain": [
       "<IPython.core.display.HTML object>"
      ]
     },
     "metadata": {},
     "output_type": "display_data"
    }
   ],
   "source": [
    "learn.fit(10, callbacks=cbs)"
   ]
  },
  {
   "cell_type": "markdown",
   "metadata": {},
   "source": [
    "Evaluation...Note, that through ```inverse_transform_input``` we can reverse the scaling of the input data."
   ]
  },
  {
   "cell_type": "code",
   "execution_count": 29,
   "metadata": {},
   "outputs": [
    {
     "data": {
      "text/html": [],
      "text/plain": [
       "<IPython.core.display.HTML object>"
      ]
     },
     "metadata": {},
     "output_type": "display_data"
    }
   ],
   "source": [
    "df_test = ds_te.to_df(inverse_transform_input=True)\n",
    "y_hat, _  = learn.get_preds(DatasetType.Test)\n",
    "df_test['Y_hat'] = dev_to_np(y_hat)"
   ]
  },
  {
   "cell_type": "code",
   "execution_count": 30,
   "metadata": {},
   "outputs": [
    {
     "data": {
      "text/plain": [
       "<matplotlib.legend.Legend at 0x7f46e189ef98>"
      ]
     },
     "execution_count": 30,
     "metadata": {},
     "output_type": "execute_result"
    },
    {
     "data": {
      "image/png": "[encoded data removed]",
      "text/plain": [
       "<Figure size 864x576 with 1 Axes>"
      ]
     },
     "metadata": {
      "needs_background": "light"
     },
     "output_type": "display_data"
    }
   ],
   "source": [
    "plt.figure(figsize=(12,8))\n",
    "plt.scatter(df_test.WindSpeed100m, df_test.PowerGeneration, label='Target')\n",
    "plt.scatter(df_test.WindSpeed100m, df_test.Y_hat, label='Prediction')\n",
    "plt.xlabel('Wind speed [m/s²]')\n",
    "plt.ylabel('Normalized Power')\n",
    "plt.legend()"
   ]
  },
  {
   "cell_type": "code",
   "execution_count": 31,
   "metadata": {},
   "outputs": [
    {
     "name": "stdout",
     "output_type": "stream",
     "text": [
      "Test nRMSE: 0.2311778962612152\n"
     ]
    }
   ],
   "source": [
    "print(f'Test nRMSE: {mse(df_test.PowerGeneration, df_test.Y_hat, squared=False)}')"
   ]
  }
 ],
 "metadata": {
  "kernelspec": {
   "display_name": "Python 3",
   "language": "python",
   "name": "python3"
  },
  "language_info": {
   "codemirror_mode": {
    "name": "ipython",
    "version": 3
   },
   "file_extension": ".py",
   "mimetype": "text/x-python",
   "name": "python",
   "nbconvert_exporter": "python",
   "pygments_lexer": "ipython3",
   "version": "3.6.8"
  }
 },
 "nbformat": 4,
 "nbformat_minor": 2
}
